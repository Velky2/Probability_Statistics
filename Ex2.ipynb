{
 "cells": [
  {
   "cell_type": "markdown",
   "id": "e1493fd7-0fd0-4784-87f8-33598e889fc6",
   "metadata": {},
   "source": [
    "# Probabilidade e estatística\n",
    "## Exercício 2 - Goblin"
   ]
  },
  {
   "cell_type": "markdown",
   "id": "a8685cd4-16c6-4b4c-b361-f1620f1a1c25",
   "metadata": {},
   "source": [
    "O exercício objetiva o entendimento do processo de amostragem, visualizando como seus valores variam em relação à população."
   ]
  },
  {
   "cell_type": "markdown",
   "id": "2c6c37d7-a0d0-42c9-84e9-533fe374c9d9",
   "metadata": {},
   "source": [
    "Primeiramente, criarei uma lista correspondentes às notas de usuários para o último episódio que assisti (Gintama ep. 50) no famoso site IMDB. As notas variam de 1 a 10, sendo 547 no total."
   ]
  },
  {
   "cell_type": "code",
   "execution_count": 7,
   "id": "7526a8e9-6455-4898-9d01-61a09fa4c1a1",
   "metadata": {},
   "outputs": [],
   "source": [
    "notas = [10] * 238 + [9] * 116 + [8] * 111 + [7] * 42 + [6] * 23 + [5] * 5 + [4] * 2 + [3] * 1 + [2] * 0 + [1] * 9"
   ]
  },
  {
   "cell_type": "markdown",
   "id": "5b860b16-0d08-4b33-8e6e-28e57b115da3",
   "metadata": {},
   "source": [
    "Considerando os usuários que votaram nesse episódio como a população, ou seja, a população são as 547 notas atribuídas, calculemos a média simples das notas do episódio."
   ]
  },
  {
   "cell_type": "code",
   "execution_count": 8,
   "id": "d6661cca-a3a7-4199-8429-b38bdc239341",
   "metadata": {},
   "outputs": [
    {
     "name": "stdout",
     "output_type": "stream",
     "text": [
      "A média de notas da população é 8.755027422303474.\n"
     ]
    }
   ],
   "source": [
    "import statistics as st\n",
    "\n",
    "print(f'A média de notas da população é {st.mean(notas)}.')"
   ]
  },
  {
   "cell_type": "markdown",
   "id": "cc23202b-e96e-4f84-a0ed-528c21b30b37",
   "metadata": {},
   "source": [
    "Agora que temos a média da população, faremos 100 amostragens e calcularemos a média de cada uma delas, armazenando-as em uma lista. Faremos 2 amostragens para cada 25 + k, com k de 0 a 49."
   ]
  },
  {
   "cell_type": "code",
   "execution_count": 16,
   "id": "56d8a945-becb-467b-a1f5-0a12d14263fd",
   "metadata": {},
   "outputs": [],
   "source": [
    "from numpy.random import choice\n",
    "\n",
    "média_amostragens = []\n",
    "for k in range(50):\n",
    "    for i in range(2):\n",
    "        notas_amostra = choice(notas, 25+k, replace=False)\n",
    "        notas_amostra = list(map(int, notas_amostra))\n",
    "        média = st.mean(notas_amostra)\n",
    "        média_amostragens.append(média)"
   ]
  },
  {
   "cell_type": "code",
   "execution_count": 27,
   "id": "307eba96-4327-48cc-a23a-995003f6cd47",
   "metadata": {},
   "outputs": [
    {
     "name": "stdout",
     "output_type": "stream",
     "text": [
      "Algumas das médias calculadas: [8.352941176470589, 9.121212121212121, 8.96551724137931, 8.652173913043478]\n"
     ]
    }
   ],
   "source": [
    "print(f'Algumas das médias calculadas: {list(map(float, (choice(média_amostragens, 4))))}')"
   ]
  },
  {
   "cell_type": "markdown",
   "id": "018a339d-0774-40ab-88b0-1107752cd1d3",
   "metadata": {},
   "source": [
    "Assim, foi criada a lista \"média_amostragens\", que contém a média das 100 amostragens feitas. Por fim, calcularemos a média e o desvio padrão dessa lista de médias de amostragens."
   ]
  },
  {
   "cell_type": "code",
   "execution_count": 18,
   "id": "02526130-7179-4077-ade1-3b47abc43127",
   "metadata": {},
   "outputs": [
    {
     "name": "stdout",
     "output_type": "stream",
     "text": [
      "A média foi de 8.745116409227117.\n",
      "O desvio padrão foi de 0.25101614449881254\n"
     ]
    }
   ],
   "source": [
    "print(f'A média foi de {st.mean(média_amostragens)}.')\n",
    "print(f'O desvio padrão foi de {st.pstdev(média_amostragens)}')"
   ]
  },
  {
   "cell_type": "markdown",
   "id": "e94e1790-cd8d-4024-a4fd-77539dacbe5b",
   "metadata": {},
   "source": [
    "### Discussões"
   ]
  },
  {
   "cell_type": "markdown",
   "id": "97765063-4eaa-4228-9fbc-6b810bdee514",
   "metadata": {},
   "source": [
    "Após calcularmos a média da população e a média das amostragens, percebemos serem bem próximas, aproximadamente 0.01 de diferença. Isso é interessante, pois ao observarmos algumas das médias calculadas, observamos ampla gama de valores, como 8.35 e 9.12, mas com muitas amostragens feitas, os resultados conseguem se aproximar bastante ao da população. Ao observarmos o desvio padrão, percebe-se ser baixo, apenas 0.25. Uma teoria para explicar esse baixo resultado pode ser devido à alta concentração das notas entre 8 e 10 (85% das notas), dificultando o aparecimento de valores que se distanciem muito da média para aumentar significativamente o desvio padrão. Isso faz com que as médias apresentem pequenas variabilidades, tornando casos mais extremos como os mencionados perderem força de distanciar a média. Façamos um boxplot para confirmar a teoria."
   ]
  },
  {
   "cell_type": "code",
   "execution_count": 28,
   "id": "3be20a40-acb6-47b7-a239-b5502136b17f",
   "metadata": {},
   "outputs": [
    {
     "data": {
      "image/png": "[encoded data removed]",
      "text/plain": [
       "<Figure size 640x480 with 1 Axes>"
      ]
     },
     "metadata": {},
     "output_type": "display_data"
    }
   ],
   "source": [
    "import seaborn as sns\n",
    "eixo = sns.boxplot(y=média_amostragens)\n",
    "eixo.set_ylabel(\"Altura\");"
   ]
  },
  {
   "cell_type": "markdown",
   "id": "b5dbc4da-67b2-44ec-b66b-8cfbfc5a654a",
   "metadata": {},
   "source": [
    "Veja como, de fato, a distribuição das médias é próxima, explicando o baixo desvio padrão."
   ]
  },
  {
   "cell_type": "markdown",
   "id": "79742d9a-7390-4a12-8075-6c49dd1a291a",
   "metadata": {},
   "source": [
    "Por fim, podemos aplicar nesse contexto a Lei dos Grandes Números, que basicamente aponta que quanto maior for a amostra e o número de amostragens, mais próxima ela tende a ficar de representar fielmente a população. Assim, usando valores grandes, chegando a 74% da população e 100 amostragens, as médias realmente tenderiam a se aproximar bastante da média da população, como ocorreu."
   ]
  },
  {
   "cell_type": "markdown",
   "id": "892c06b5-3687-4ca9-956f-48447581ae64",
   "metadata": {},
   "source": [
    "Além disso, percebe-se o Teorema Central do Limite, em que as médias das amostragens tendem a uma distribuição normal com centro na média da população. Isso foi visto com facilidade no boxplot, em que a mediana é 8.74, com primeiro quartil 8.57 e terceiro quartil 8.93. De acordo com o teorema, quanto maior o número de amostragens, melhor fica a observação da distribuição normal, assim, tendo feito com 100 amostragens, é perceptível sua formação."
   ]
  },
  {
   "cell_type": "markdown",
   "id": "78abb6ee-84d3-4cfe-8b56-eeb6d0fd234c",
   "metadata": {},
   "source": [
    "Referências:\n",
    "\n",
    "IMDb. “Gintama” Mitei ha mitei de atte kettei de ha nai. [S.l.], 2007. Disponível em: IMDb. Acesso em: 9 ago. 2025.\n",
    "\n",
    "MINITAB. O teorema do limite central: as médias de amostras grandes e aleatórias são aproximadamente normais. [S.l.], [s.d.]. Disponível em: support.minitab.com. Acesso em: 9 ago. 2025.\n",
    "\n",
    "DATACAMP. Lei dos grandes números: Definição, exemplos e casos de uso. [S.l.], 5 jun. 2025. Disponível em: DataCamp. Acesso em: 9 ago. 2025."
   ]
  }
 ],
 "metadata": {
  "kernelspec": {
   "display_name": "Python 3 (ipykernel)",
   "language": "python",
   "name": "python3"
  },
  "language_info": {
   "codemirror_mode": {
    "name": "ipython",
    "version": 3
   },
   "file_extension": ".py",
   "mimetype": "text/x-python",
   "name": "python",
   "nbconvert_exporter": "python",
   "pygments_lexer": "ipython3",
   "version": "3.12.7"
  }
 },
 "nbformat": 4,
 "nbformat_minor": 5
}
